{
 "cells": [
  {
   "cell_type": "code",
   "execution_count": 3,
   "metadata": {
    "ExecuteTime": {
     "end_time": "2023-12-30T08:50:45.280301606Z",
     "start_time": "2023-12-30T08:50:45.276875127Z"
    }
   },
   "outputs": [],
   "source": [
    "a = 3"
   ]
  },
  {
   "cell_type": "code",
   "execution_count": 4,
   "metadata": {
    "ExecuteTime": {
     "end_time": "2023-12-30T08:50:45.290597786Z",
     "start_time": "2023-12-30T08:50:45.281838499Z"
    }
   },
   "outputs": [
    {
     "name": "stdout",
     "output_type": "stream",
     "text": [
      "yes\n"
     ]
    }
   ],
   "source": [
    "if a < 5:\n",
    "    print('yes')"
   ]
  },
  {
   "cell_type": "code",
   "execution_count": 5,
   "metadata": {
    "ExecuteTime": {
     "end_time": "2023-12-30T08:50:45.331694441Z",
     "start_time": "2023-12-30T08:50:45.330596368Z"
    }
   },
   "outputs": [
    {
     "name": "stdout",
     "output_type": "stream",
     "text": [
      "smaller than 2\n"
     ]
    }
   ],
   "source": [
    "a = 1\n",
    "if a < 2:\n",
    "    print('smaller than 2')\n",
    "elif a < 5:\n",
    "    print('smaller than 5')"
   ]
  },
  {
   "cell_type": "code",
   "execution_count": 6,
   "metadata": {
    "ExecuteTime": {
     "end_time": "2023-12-30T08:50:45.332471930Z",
     "start_time": "2023-12-30T08:50:45.331054755Z"
    }
   },
   "outputs": [
    {
     "name": "stdout",
     "output_type": "stream",
     "text": [
      "larger than 5\n"
     ]
    }
   ],
   "source": [
    "a = 10\n",
    "if a < 2:\n",
    "    print('smaller than 2')\n",
    "elif a < 5:\n",
    "    print('smaller than 5')\n",
    "else:\n",
    "    print('larger than 5')"
   ]
  },
  {
   "cell_type": "code",
   "execution_count": 7,
   "metadata": {
    "ExecuteTime": {
     "end_time": "2023-12-30T08:50:45.333006261Z",
     "start_time": "2023-12-30T08:50:45.331262185Z"
    }
   },
   "outputs": [],
   "source": [
    "mylist = [8, 3, 9, 20, 27]"
   ]
  },
  {
   "cell_type": "code",
   "execution_count": 8,
   "metadata": {
    "ExecuteTime": {
     "end_time": "2023-12-30T08:50:45.333561005Z",
     "start_time": "2023-12-30T08:50:45.331417118Z"
    }
   },
   "outputs": [],
   "source": [
    "for x in mylist:\n",
    "    x ** 2"
   ]
  },
  {
   "cell_type": "code",
   "outputs": [
    {
     "name": "stdout",
     "output_type": "stream",
     "text": [
      "729\n"
     ]
    }
   ],
   "source": [
    "for x in mylist:\n",
    "    value_squared = x**2\n",
    "print(value_squared)"
   ],
   "metadata": {
    "collapsed": false,
    "ExecuteTime": {
     "end_time": "2023-12-30T08:50:57.555489358Z",
     "start_time": "2023-12-30T08:50:57.552565217Z"
    }
   },
   "execution_count": 9
  },
  {
   "cell_type": "code",
   "outputs": [
    {
     "name": "stdout",
     "output_type": "stream",
     "text": [
      "64\n",
      "9\n",
      "81\n",
      "400\n",
      "729\n"
     ]
    }
   ],
   "source": [
    "for x in mylist:\n",
    "    value_squared = x**2\n",
    "    print(value_squared)"
   ],
   "metadata": {
    "collapsed": false,
    "ExecuteTime": {
     "end_time": "2023-12-30T08:51:09.175354073Z",
     "start_time": "2023-12-30T08:51:09.169643179Z"
    }
   },
   "execution_count": 10
  },
  {
   "cell_type": "code",
   "outputs": [
    {
     "name": "stdout",
     "output_type": "stream",
     "text": [
      "0\n",
      "1\n",
      "2\n",
      "3\n",
      "4\n",
      "5\n",
      "6\n",
      "7\n"
     ]
    }
   ],
   "source": [
    "for x in range(8):\n",
    "    print(x)"
   ],
   "metadata": {
    "collapsed": false,
    "ExecuteTime": {
     "end_time": "2023-12-30T08:51:16.638630Z",
     "start_time": "2023-12-30T08:51:16.592706666Z"
    }
   },
   "execution_count": 11
  },
  {
   "cell_type": "code",
   "outputs": [
    {
     "name": "stdout",
     "output_type": "stream",
     "text": [
      "64\n",
      "9\n",
      "81\n"
     ]
    }
   ],
   "source": [
    "for x in range(3):\n",
    "    value_squared = mylist[x]**2\n",
    "    print(value_squared)"
   ],
   "metadata": {
    "collapsed": false,
    "ExecuteTime": {
     "end_time": "2023-12-30T08:51:24.030711437Z",
     "start_time": "2023-12-30T08:51:24.028466586Z"
    }
   },
   "execution_count": 12
  },
  {
   "cell_type": "code",
   "outputs": [
    {
     "name": "stdout",
     "output_type": "stream",
     "text": [
      "400\n",
      "729\n"
     ]
    }
   ],
   "source": [
    "mylist = [8,3,9,20,27]\n",
    "\n",
    "for x in mylist:\n",
    "    \n",
    "    if x > 10:\n",
    "    \n",
    "        value_squared = x**2\n",
    "        print(value_squared)"
   ],
   "metadata": {
    "collapsed": false,
    "ExecuteTime": {
     "end_time": "2023-12-30T08:51:30.629342306Z",
     "start_time": "2023-12-30T08:51:30.626585116Z"
    }
   },
   "execution_count": 13
  }
 ],
 "metadata": {
  "kernelspec": {
   "display_name": "Python 3 (ipykernel)",
   "language": "python",
   "name": "python3"
  },
  "language_info": {
   "codemirror_mode": {
    "name": "ipython",
    "version": 3
   },
   "file_extension": ".py",
   "mimetype": "text/x-python",
   "name": "python",
   "nbconvert_exporter": "python",
   "pygments_lexer": "ipython3",
   "version": "3.10.12"
  }
 },
 "nbformat": 4,
 "nbformat_minor": 2
}
